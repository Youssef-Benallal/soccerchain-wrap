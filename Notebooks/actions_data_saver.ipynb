{
 "cells": [
  {
   "cell_type": "code",
   "execution_count": null,
   "id": "54bcd650",
   "metadata": {},
   "outputs": [],
   "source": [
    "import warnings\n",
    "warnings.filterwarnings(\"ignore\")\n",
    "from soccerchain_wrap.helpers.plotting import (\n",
    "    plot_sequences_by_id,\n",
    "    plot_pass_clusters,\n",
    "    plot_league_pizza_grid\n",
    ")\n",
    "from soccerchain_wrap.actions.spadl_io import SpadlIO\n",
    "from soccerchain_wrap.sequences import (\n",
    "    detect_buildup_sequences,\n",
    "    detect_open_play_sequences,\n",
    "    detect_shot_ending_sequences\n",
    ")\n",
    "from soccerchain_wrap.models.pass_clustering import BuildupInitiatingPassesCluster\n",
    "\n",
    "from typing import Tuple, Optional, Iterable\n",
    "import numpy as np\n",
    "import pandas as pd\n",
    "from sklearn.cluster import KMeans\n",
    "import matplotlib.pyplot as plt\n",
    "from soccerchain_wrap.metrics.pipe import metric_percentile_table_by_team, build_league_table\n",
    "from soccerchain_wrap.metrics.sequence_summary import PitchDims\n",
    "\n",
    "from typing import Optional, Iterable, Union, List\n",
    "from mplsoccer import Pitch\n",
    "import matplotlib.pyplot as plt\n",
    "from matplotlib.colors import to_rgba\n",
    "from matplotlib.lines import Line2D\n",
    "from matplotlib.patches import Circle\n",
    "from IPython.display import display\n",
    "from scipy.spatial.distance import cdist\n",
    "import numpy as np\n",
    "import pandas as pd\n",
    "import joblib\n",
    "\n",
    "# pip install tslearn mplsoccer scikit-learn\n",
    "from itertools import combinations\n",
    "from mplsoccer import Pitch\n",
    "\n",
    "from tslearn.metrics import dtw\n",
    "from sklearn.cluster import AgglomerativeClustering"
   ]
  },
  {
   "cell_type": "code",
   "execution_count": null,
   "id": "e34e285c",
   "metadata": {},
   "outputs": [],
   "source": [
    "# GET LEAGUE-SEASON ACTION DATA\n",
    "spadl_io = SpadlIO(\n",
    "    leagues=[\"ENG-Premier League\"],\n",
    "    seasons=[2024],\n",
    ")\n",
    "\n",
    "spadl_io.save_spadl()\n",
    "league_season_actions_dict = (\n",
    "    spadl_io.load_spadl()\n",
    ")\n",
    "\n",
    "pl_actions_data = league_season_actions_dict['ENG-Premier League-2024']"
   ]
  }
 ],
 "metadata": {
  "language_info": {
   "name": "python"
  }
 },
 "nbformat": 4,
 "nbformat_minor": 5
}
